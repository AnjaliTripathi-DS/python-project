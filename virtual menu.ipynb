{
 "cells": [
  {
   "cell_type": "code",
   "execution_count": 1,
   "id": "1c7ce35c",
   "metadata": {},
   "outputs": [
    {
     "name": "stdout",
     "output_type": "stream",
     "text": [
      "{'pizza': 120, 'pasta': 60, 'cheese burger': 149, 'cheese maggi': 110, 'cold coffee': 60, 'tea': 12}\n"
     ]
    }
   ],
   "source": [
    "#restruant menu \n",
    "menu={\n",
    "   \"pizza\":120,\n",
    "    \"pasta\":60,\n",
    "    \"cheese burger\":149,\n",
    "    \"cheese maggi\":110,\n",
    "    \"cold coffee\":60,\n",
    "    \"tea\":12,\n",
    "    \n",
    "}\n",
    "\n",
    "print(menu)"
   ]
  },
  {
   "cell_type": "code",
   "execution_count": 3,
   "id": "0f451ab7",
   "metadata": {},
   "outputs": [
    {
     "name": "stdout",
     "output_type": "stream",
     "text": [
      "welcome to foodies nation\n",
      "pizza: Rs 120\n",
      "pasta: Rs60\n",
      "cheese burger: Rs149\n",
      "cheese maggi:Rs110\n",
      "cold coffee: Rs60\n",
      "tea: Rs12 \n"
     ]
    }
   ],
   "source": [
    "#greet customer\n",
    "print(\"welcome to foodies nation\")\n",
    "print(\"pizza: Rs 120\\npasta: Rs60\\ncheese burger: Rs149\\ncheese maggi:Rs110\\ncold coffee: Rs60\\ntea: Rs12 \")"
   ]
  },
  {
   "cell_type": "code",
   "execution_count": 21,
   "id": "797fa017",
   "metadata": {},
   "outputs": [
    {
     "name": "stdout",
     "output_type": "stream",
     "text": [
      "enter the name of item you want to order= pizza\n",
      "your item pizza is added to your order\n",
      "do you want to add another item? (Yes/No) Yes\n",
      "enter the name of the second item=tea\n",
      "item teais been added to your order\n",
      "the total amount of items to pay 132\n"
     ]
    }
   ],
   "source": [
    "order_total=0\n",
    "item_1= input(\"enter the name of item you want to order= \")\n",
    "if item_1 in menu:\n",
    "    order_total += menu[item_1]\n",
    "    print (f\"your item {item_1} is added to your order\")\n",
    "else:\n",
    "    print(f\"ordered item {item_1} is not available yet!\")\n",
    "another_order= input(\"do you want to add another item? (Yes/No) \")\n",
    "if another_order == \"Yes\":\n",
    "    item_2= input(\"enter the name of the second item=\")\n",
    "    if item_2 in menu:\n",
    "        order_total += menu[item_2]\n",
    "        print(f\"item {item_2}is been added to your order\")\n",
    "else: \n",
    "    print(f\"ordered item {item_2} is not available!\")\n",
    "print(f\"the total amount of items to pay {order_total}\")\n",
    "    \n",
    "    \n",
    "            \n",
    "    \n",
    "        \n",
    "        \n",
    "        \n",
    "        \n",
    "                    "
   ]
  },
  {
   "cell_type": "code",
   "execution_count": null,
   "id": "2ea11318",
   "metadata": {},
   "outputs": [],
   "source": []
  }
 ],
 "metadata": {
  "kernelspec": {
   "display_name": "Python 3 (ipykernel)",
   "language": "python",
   "name": "python3"
  },
  "language_info": {
   "codemirror_mode": {
    "name": "ipython",
    "version": 3
   },
   "file_extension": ".py",
   "mimetype": "text/x-python",
   "name": "python",
   "nbconvert_exporter": "python",
   "pygments_lexer": "ipython3",
   "version": "3.11.5"
  }
 },
 "nbformat": 4,
 "nbformat_minor": 5
}
